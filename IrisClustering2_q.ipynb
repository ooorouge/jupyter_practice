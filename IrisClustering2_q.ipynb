{
 "cells": [
  {
   "cell_type": "markdown",
   "metadata": {},
   "source": [
    "# You should have understand the irisClustering Now, Let to the PCA"
   ]
  },
  {
   "cell_type": "code",
   "execution_count": null,
   "metadata": {},
   "outputs": [],
   "source": [
    "import numpy as np\n",
    "import pandas as pd\n",
    "import matplotlib.pyplot as plt\n",
    "\n",
    "import sklearn\n",
    "from sklearn.cluster import KMeans\n",
    "\n",
    "from sklearn import datasets\n",
    "from sklearn.metrics import classification_report \n",
    "from sklearn.decomposition import PCA\n",
    "\n",
    "%matplotlib inline\n"
   ]
  },
  {
   "cell_type": "markdown",
   "metadata": {},
   "source": [
    "# the feature is 4-dimention, hard to picture, what if we just use the first 2 dimentions?"
   ]
  },
  {
   "cell_type": "code",
   "execution_count": null,
   "metadata": {},
   "outputs": [],
   "source": [
    "iris = datasets.load_iris()\n",
    "\n",
    "X0 = iris.data\n",
    "\n",
    "y = iris.target\n",
    "print(X0.shape)\n",
    "#X is just fist to colunms of X0\n",
    "X = np.array([X0[:,0],X0[:,1]]).T #X is now just first 2 colunms of the X0, the original features\n",
    "print(X.shape)"
   ]
  },
  {
   "cell_type": "code",
   "execution_count": null,
   "metadata": {},
   "outputs": [],
   "source": [
    "cluster = KMeans(n_clusters=____, random_state=5)\n",
    "cluster.____(____)"
   ]
  },
  {
   "cell_type": "markdown",
   "metadata": {},
   "source": [
    "# You can see the result is not as good, (but still not bad, that's pure luck? the features are related, so you do not need all features to tell the differents flowers.\n",
    "# This is called feature selection, Yes it's science."
   ]
  },
  {
   "cell_type": "code",
   "execution_count": null,
   "metadata": {
    "scrolled": false
   },
   "outputs": [],
   "source": [
    "relabel = np.choose(cluster.labels_, [2, 0, 1])\n",
    "colors = np.array(['r', 'm', 'b']) # choose the color according to\n",
    "plt.subplot(1, 2, 1)\n",
    "plt.scatter(x=X[:,0], y=X[:,1], color=colors[y])\n",
    "plt.subplot(1, 2, 2)\n",
    "plt.scatter(x=X[:,0], y=X[:,1], color=colors[relabel])\n",
    "print(classification_report(y, relabel))"
   ]
  },
  {
   "cell_type": "markdown",
   "metadata": {},
   "source": [
    "#  Now reduce the dimention using principle component reduction\n",
    " just compare the  original with just first 2 dimentions and the PCA result in 2d scatter plot"
   ]
  },
  {
   "cell_type": "code",
   "execution_count": null,
   "metadata": {},
   "outputs": [],
   "source": [
    "#use pca\n",
    "pca = PCA(n_components=2)\n",
    "X_pca = pca.____(____)\n",
    "print(X_pca.shape)\n",
    "\n",
    "#compare the pca and the original with just first 2 dimentions\n",
    "plt.subplot(1, 2, 1)\n",
    "plt.scatter(x=X[:, 0],y=X[:, 1])\n",
    "plt.subplot(1, 2, 2)\n",
    "plt.scatter(x=X_pca[:,0], y=X_pca[:,1])\n"
   ]
  },
  {
   "cell_type": "code",
   "execution_count": null,
   "metadata": {},
   "outputs": [],
   "source": [
    "cluster_pca = KMeans(n_clusters=____,random_state=5)\n",
    "cluster_pca.fit(____)"
   ]
  },
  {
   "cell_type": "markdown",
   "metadata": {},
   "source": [
    "# you can see the result is pretty much the same as the 4-feature result, but this is much less computationally complex, and you can guess the result by just looking"
   ]
  },
  {
   "cell_type": "code",
   "execution_count": null,
   "metadata": {},
   "outputs": [],
   "source": [
    "\n",
    "relabel = np.choose(cluster_pca.labels_, [1,0,2])\n",
    "plt.subplot(1, 2, 1)\n",
    "plt.scatter(x=X_pca[:,0], y=X_pca[:,1], color=colors[y])\n",
    "plt.subplot(1, 2, 2)\n",
    "plt.scatter(x=X_pca[:,0], y=X_pca[:,1], color=colors[relabel])\n",
    "print(classification_report(y, relabel))"
   ]
  }
 ],
 "metadata": {
  "anaconda-cloud": {},
  "kernelspec": {
   "display_name": "Python 3",
   "language": "python",
   "name": "python3"
  },
  "language_info": {
   "codemirror_mode": {
    "name": "ipython",
    "version": 3
   },
   "file_extension": ".py",
   "mimetype": "text/x-python",
   "name": "python",
   "nbconvert_exporter": "python",
   "pygments_lexer": "ipython3",
   "version": "3.6.4"
  }
 },
 "nbformat": 4,
 "nbformat_minor": 1
}
