{
 "cells": [
  {
   "cell_type": "code",
   "execution_count": null,
   "metadata": {},
   "outputs": [],
   "source": [
    "import numpy as np # this is like matlab, give python the ability to do multi dimetion array and matrix operations\n",
    "import matplotlib.pyplot as plt # this let you draw all kinds of charts\n",
    "import pandas as pd\n",
    "import keras # the neural network framework\n",
    "from keras.models import Sequential # sequenctial model for layers of neural network\n",
    "from keras.layers import Dense # dense connected network\n",
    " \n",
    "# let you print matplot in notebook\n",
    "%matplotlib inline"
   ]
  },
  {
   "cell_type": "markdown",
   "metadata": {
    "collapsed": true
   },
   "source": [
    "# preprocessing of the data, tha data is very tidy , little needs done"
   ]
  },
  {
   "cell_type": "code",
   "execution_count": null,
   "metadata": {},
   "outputs": [],
   "source": [
    "df = pd.read_excel(open('battData.xlsx', 'rb'), sheetname=1)\n",
    "df = df.drop(df.index[0])\n",
    "# copy the 1st colunm, it should be a value not a index\n",
    "df.insert(loc=0,column=\"volt\", value=df.index)\n",
    "df.index=range(len(df.index))\n",
    "df.columns=[\"volt\", \"S1\", \"S2\", \"S3\", \"S4\",]"
   ]
  },
  {
   "cell_type": "markdown",
   "metadata": {},
   "source": [
    "### Choose from \n",
    "* `df[df[\"S4\"].notnull()]`\n",
    "* `df[df[\"S4\"].isnull()]`"
   ]
  },
  {
   "cell_type": "code",
   "execution_count": null,
   "metadata": {},
   "outputs": [],
   "source": [
    "trainData = ________\n",
    "predictData = ________"
   ]
  },
  {
   "cell_type": "markdown",
   "metadata": {
    "collapsed": true
   },
   "source": [
    "# the data is preview as below"
   ]
  },
  {
   "cell_type": "code",
   "execution_count": null,
   "metadata": {},
   "outputs": [],
   "source": [
    "trainData.head()"
   ]
  },
  {
   "cell_type": "code",
   "execution_count": null,
   "metadata": {},
   "outputs": [],
   "source": [
    "predictData.head()"
   ]
  },
  {
   "cell_type": "markdown",
   "metadata": {},
   "source": [
    "# Let built the model \n",
    "## We have a 3 layer network the most simple one, the input does not count as a layer\n",
    "  <img src=\"network.png\" width=600>\n",
    "  drawn with http://alexlenail.me/NN-SVG/index.html\n",
    "  ## the first layer has 16 neurons, with 4 input connected to it\n",
    "  ## the 2nd has 28\n",
    "  ## the 3rd is the output has just one\n"
   ]
  },
  {
   "cell_type": "code",
   "execution_count": null,
   "metadata": {
    "scrolled": true
   },
   "outputs": [],
   "source": [
    "model = Sequential()\n",
    "# the ist layer has input defined as 4\n",
    "model.add(Dense(__, input_dim=__, activation='relu'))\n",
    "model.add(Dense(__, activation='relu'))\n",
    "model.add(Dense(__, activation='relu'))\n",
    "\n",
    "# after we designed our network we compile it for training\n",
    "model.compile(loss='mean_squared_error', optimizer='adam')"
   ]
  },
  {
   "cell_type": "markdown",
   "metadata": {},
   "source": [
    "# Train the model"
   ]
  },
  {
   "cell_type": "code",
   "execution_count": null,
   "metadata": {},
   "outputs": [],
   "source": [
    "# known x, y , train epoch times, validatin is 20% of total data,\n",
    "model.fit(trainData[[\"____\",\"____\",\"____\",\"____\"]], trainData[\"____\"],  batch_size=3, epochs=120, validation_split=0.2)"
   ]
  },
  {
   "cell_type": "markdown",
   "metadata": {},
   "source": [
    "# plot the result"
   ]
  },
  {
   "cell_type": "code",
   "execution_count": null,
   "metadata": {},
   "outputs": [],
   "source": [
    "# this will emit a warning, scince it's expected then just ignore the warning\n",
    "predictData[\"____\"]= model.predict(predictData[[\"____\", \"____\", \"____\", \"____\"]], batch_size=1)\n",
    "\n",
    "plt.plot(df[\"____\"], df[\"____\"], label='state_new', linewidth=1)\n",
    "plt.plot(df[\"____\"], df[\"____\"], label='state_1', linewidth=1)\n",
    "plt.plot(df[\"volt\"], df[\"____\"], label='state_2', linewidth=1)\n",
    "plt.plot(trainData[\"volt\"], trainData[\"S4\"], label='state_3', linewidth=1)\n",
    "plt.plot(_____________, _________________, label='predict_3', linewidth=2)\n",
    "plt.legend(loc='best', fontsize=10)\n"
   ]
  }
 ],
 "metadata": {
  "anaconda-cloud": {},
  "kernelspec": {
   "display_name": "Python 3",
   "language": "python",
   "name": "python3"
  },
  "language_info": {
   "codemirror_mode": {
    "name": "ipython",
    "version": 3
   },
   "file_extension": ".py",
   "mimetype": "text/x-python",
   "name": "python",
   "nbconvert_exporter": "python",
   "pygments_lexer": "ipython3",
   "version": "3.6.4"
  }
 },
 "nbformat": 4,
 "nbformat_minor": 1
}
