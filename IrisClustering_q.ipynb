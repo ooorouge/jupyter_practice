{
 "cells": [
  {
   "cell_type": "markdown",
   "metadata": {},
   "source": [
    "## First we have to import the libs we are gonna use\n",
    "\n",
    "The comment in cell below say what it does"
   ]
  },
  {
   "cell_type": "code",
   "execution_count": null,
   "metadata": {},
   "outputs": [],
   "source": [
    "import numpy as np # this is like matlab, give python the ability to do multi dimetion array and matrix operations\n",
    "import matplotlib.pyplot as plt # this let you draw all kinds of charts\n",
    "\n",
    "import sklearn # this is a very powerful machine learning lib\n",
    "from sklearn.cluster import KMeans # KMeans clustering lib in sklearn\n",
    "\n",
    "from sklearn import datasets # the build in data set for you to play around\n",
    "from sklearn.metrics import classification_report # functions needed to evaluate the perfomrance of your model\n",
    " \n",
    "# let you print matplot in notebook\n",
    "%matplotlib inline"
   ]
  },
  {
   "cell_type": "markdown",
   "metadata": {},
   "source": [
    "# Then we prepare our data\n",
    "the below data is iris type data, this picture says it\n",
    "you can see it has 4 features\n",
    "<img src=\"iris.png\" width=\"600\">"
   ]
  },
  {
   "cell_type": "code",
   "execution_count": null,
   "metadata": {},
   "outputs": [],
   "source": [
    "iris = datasets.load_iris()\n",
    "\n",
    "X = iris.data\n",
    "\n",
    "y = iris.target\n",
    "X.shape # you can see it has 4 features"
   ]
  },
  {
   "cell_type": "markdown",
   "metadata": {},
   "source": [
    "# Exploratory data analysis\n",
    "## First we sctatter plot it\n",
    "** one very imporant thing to note!!!! \n",
    "it has 4 features, the plot below only use the first 2 to draw a scatter plot, 4-dimention scatter plot is imposible to visualize**"
   ]
  },
  {
   "cell_type": "code",
   "execution_count": null,
   "metadata": {},
   "outputs": [],
   "source": [
    "plt.scatter(x=X[:,0], y=X[:,1])"
   ]
  },
  {
   "cell_type": "markdown",
   "metadata": {},
   "source": [
    "## Then we color it acording to the known lables"
   ]
  },
  {
   "cell_type": "code",
   "execution_count": null,
   "metadata": {},
   "outputs": [],
   "source": [
    "colors = np.array(['r', 'm', 'b']) # choose the color according to\n",
    "plt.scatter(x=X[:,0], y=X[:,1], color=colors[y])"
   ]
  },
  {
   "cell_type": "markdown",
   "metadata": {},
   "source": [
    "# create a KMeans cluster and use the features to fit it (train)"
   ]
  },
  {
   "cell_type": "code",
   "execution_count": null,
   "metadata": {},
   "outputs": [],
   "source": [
    "cluster=KMeans(n_clusters=____, random_state=5)\n",
    "cluster.____(____)"
   ]
  },
  {
   "cell_type": "markdown",
   "metadata": {},
   "source": [
    "# Compare it with the know label,\n",
    "Well it's very close, the clustering don't know which cluster is of what label, we have to fix it"
   ]
  },
  {
   "cell_type": "code",
   "execution_count": null,
   "metadata": {},
   "outputs": [],
   "source": [
    "plt.subplot(1,2,1)\n",
    "plt.scatter(x=X[:,0],y=X[:,1],color=colors[y]) # choose the color\n",
    "plt.subplot(1,2,2)\n",
    "plt.scatter(x=X[:,0],y=X[:,1],color=colors[cluster.labels_])"
   ]
  },
  {
   "cell_type": "code",
   "execution_count": null,
   "metadata": {},
   "outputs": [],
   "source": [
    "#change the R and M label\n",
    "labelOrder = np.array([1,0,2])\n",
    "relabel = labelOrder[cluster.labels_]\n",
    "# the above to line is equivalent of relabel=np.choose(cluster.labels_,[1,0,2])\n",
    "\n",
    "plt.subplot(1,2,1)\n",
    "plt.scatter(x=X[:,0],y=X[:,1],color=colors[y])\n",
    "plt.subplot(1,2,2)\n",
    "plt.scatter(x=X[:,0],y=X[:,1],color=colors[relabel])\n",
    "print(classification_report(y,relabel))"
   ]
  }
 ],
 "metadata": {
  "anaconda-cloud": {},
  "kernelspec": {
   "display_name": "Python 3",
   "language": "python",
   "name": "python3"
  },
  "language_info": {
   "codemirror_mode": {
    "name": "ipython",
    "version": 3
   },
   "file_extension": ".py",
   "mimetype": "text/x-python",
   "name": "python",
   "nbconvert_exporter": "python",
   "pygments_lexer": "ipython3",
   "version": "3.6.4"
  }
 },
 "nbformat": 4,
 "nbformat_minor": 1
}
